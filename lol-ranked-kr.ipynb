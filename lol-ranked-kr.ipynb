{
 "cells": [
  {
   "cell_type": "markdown",
   "metadata": {},
   "source": [
    "## League of Legends - Koreand Ranked Games - Visualization/Analysis"
   ]
  },
  {
   "cell_type": "code",
   "execution_count": 2,
   "metadata": {},
   "outputs": [],
   "source": [
    "import pandas as pd\n",
    "import numpy as np\n",
    "import matplotlib.pyplot as plt"
   ]
  },
  {
   "cell_type": "code",
   "execution_count": 5,
   "metadata": {},
   "outputs": [],
   "source": [
    "#chunk = 10 ** 6\n",
    "#df_chunk = pd.read_csv('match_data_version1.csv', chunksize=chunk, iterator=True)\n",
    "#df_match = pd.concat(df_chunk, ignore_index = True)\n",
    "df_winner = pd.read_csv('match_winner_data_version1.csv')\n",
    "df_loser = pd.read_csv('match_loser_data_version1.csv')"
   ]
  },
  {
   "cell_type": "code",
   "execution_count": 12,
   "metadata": {},
   "outputs": [
    {
     "name": "stdout",
     "output_type": "stream",
     "text": [
      "(108829, 18)\n"
     ]
    },
    {
     "data": {
      "text/html": [
       "<div>\n",
       "<style scoped>\n",
       "    .dataframe tbody tr th:only-of-type {\n",
       "        vertical-align: middle;\n",
       "    }\n",
       "\n",
       "    .dataframe tbody tr th {\n",
       "        vertical-align: top;\n",
       "    }\n",
       "\n",
       "    .dataframe thead th {\n",
       "        text-align: right;\n",
       "    }\n",
       "</style>\n",
       "<table border=\"1\" class=\"dataframe\">\n",
       "  <thead>\n",
       "    <tr style=\"text-align: right;\">\n",
       "      <th></th>\n",
       "      <th>Unnamed: 0</th>\n",
       "      <th>teamId</th>\n",
       "      <th>win</th>\n",
       "      <th>firstBlood</th>\n",
       "      <th>firstTower</th>\n",
       "      <th>firstInhibitor</th>\n",
       "      <th>firstBaron</th>\n",
       "      <th>firstDragon</th>\n",
       "      <th>firstRiftHerald</th>\n",
       "      <th>towerKills</th>\n",
       "      <th>inhibitorKills</th>\n",
       "      <th>baronKills</th>\n",
       "      <th>dragonKills</th>\n",
       "      <th>vilemawKills</th>\n",
       "      <th>riftHeraldKills</th>\n",
       "      <th>dominionVictoryScore</th>\n",
       "      <th>bans</th>\n",
       "      <th>gameId</th>\n",
       "    </tr>\n",
       "  </thead>\n",
       "  <tbody>\n",
       "    <tr>\n",
       "      <th>0</th>\n",
       "      <td>0</td>\n",
       "      <td>200</td>\n",
       "      <td>Win</td>\n",
       "      <td>False</td>\n",
       "      <td>True</td>\n",
       "      <td>True</td>\n",
       "      <td>False</td>\n",
       "      <td>True</td>\n",
       "      <td>True</td>\n",
       "      <td>9</td>\n",
       "      <td>1</td>\n",
       "      <td>0</td>\n",
       "      <td>3</td>\n",
       "      <td>0</td>\n",
       "      <td>2</td>\n",
       "      <td>0</td>\n",
       "      <td>[{'championId': 523, 'pickTurn': 6}, {'champio...</td>\n",
       "      <td>4.247263e+09</td>\n",
       "    </tr>\n",
       "    <tr>\n",
       "      <th>1</th>\n",
       "      <td>1</td>\n",
       "      <td>100</td>\n",
       "      <td>Win</td>\n",
       "      <td>False</td>\n",
       "      <td>False</td>\n",
       "      <td>False</td>\n",
       "      <td>False</td>\n",
       "      <td>True</td>\n",
       "      <td>True</td>\n",
       "      <td>4</td>\n",
       "      <td>0</td>\n",
       "      <td>0</td>\n",
       "      <td>2</td>\n",
       "      <td>0</td>\n",
       "      <td>2</td>\n",
       "      <td>0</td>\n",
       "      <td>[{'championId': 523, 'pickTurn': 1}, {'champio...</td>\n",
       "      <td>4.247156e+09</td>\n",
       "    </tr>\n",
       "    <tr>\n",
       "      <th>2</th>\n",
       "      <td>2</td>\n",
       "      <td>200</td>\n",
       "      <td>Win</td>\n",
       "      <td>True</td>\n",
       "      <td>True</td>\n",
       "      <td>True</td>\n",
       "      <td>False</td>\n",
       "      <td>True</td>\n",
       "      <td>True</td>\n",
       "      <td>5</td>\n",
       "      <td>1</td>\n",
       "      <td>0</td>\n",
       "      <td>2</td>\n",
       "      <td>0</td>\n",
       "      <td>2</td>\n",
       "      <td>0</td>\n",
       "      <td>[{'championId': 350, 'pickTurn': 6}, {'champio...</td>\n",
       "      <td>4.243963e+09</td>\n",
       "    </tr>\n",
       "  </tbody>\n",
       "</table>\n",
       "</div>"
      ],
      "text/plain": [
       "   Unnamed: 0  teamId  win  firstBlood  firstTower  firstInhibitor  \\\n",
       "0           0     200  Win       False        True            True   \n",
       "1           1     100  Win       False       False           False   \n",
       "2           2     200  Win        True        True            True   \n",
       "\n",
       "   firstBaron  firstDragon  firstRiftHerald  towerKills  inhibitorKills  \\\n",
       "0       False         True             True           9               1   \n",
       "1       False         True             True           4               0   \n",
       "2       False         True             True           5               1   \n",
       "\n",
       "   baronKills  dragonKills  vilemawKills  riftHeraldKills  \\\n",
       "0           0            3             0                2   \n",
       "1           0            2             0                2   \n",
       "2           0            2             0                2   \n",
       "\n",
       "   dominionVictoryScore                                               bans  \\\n",
       "0                     0  [{'championId': 523, 'pickTurn': 6}, {'champio...   \n",
       "1                     0  [{'championId': 523, 'pickTurn': 1}, {'champio...   \n",
       "2                     0  [{'championId': 350, 'pickTurn': 6}, {'champio...   \n",
       "\n",
       "         gameId  \n",
       "0  4.247263e+09  \n",
       "1  4.247156e+09  \n",
       "2  4.243963e+09  "
      ]
     },
     "execution_count": 12,
     "metadata": {},
     "output_type": "execute_result"
    }
   ],
   "source": [
    "print(df_winner.shape)\n",
    "df_winner.head(3)"
   ]
  },
  {
   "cell_type": "code",
   "execution_count": 13,
   "metadata": {},
   "outputs": [
    {
     "name": "stdout",
     "output_type": "stream",
     "text": [
      "(108829, 18)\n"
     ]
    },
    {
     "data": {
      "text/html": [
       "<div>\n",
       "<style scoped>\n",
       "    .dataframe tbody tr th:only-of-type {\n",
       "        vertical-align: middle;\n",
       "    }\n",
       "\n",
       "    .dataframe tbody tr th {\n",
       "        vertical-align: top;\n",
       "    }\n",
       "\n",
       "    .dataframe thead th {\n",
       "        text-align: right;\n",
       "    }\n",
       "</style>\n",
       "<table border=\"1\" class=\"dataframe\">\n",
       "  <thead>\n",
       "    <tr style=\"text-align: right;\">\n",
       "      <th></th>\n",
       "      <th>Unnamed: 0</th>\n",
       "      <th>teamId</th>\n",
       "      <th>win</th>\n",
       "      <th>firstBlood</th>\n",
       "      <th>firstTower</th>\n",
       "      <th>firstInhibitor</th>\n",
       "      <th>firstBaron</th>\n",
       "      <th>firstDragon</th>\n",
       "      <th>firstRiftHerald</th>\n",
       "      <th>towerKills</th>\n",
       "      <th>inhibitorKills</th>\n",
       "      <th>baronKills</th>\n",
       "      <th>dragonKills</th>\n",
       "      <th>vilemawKills</th>\n",
       "      <th>riftHeraldKills</th>\n",
       "      <th>dominionVictoryScore</th>\n",
       "      <th>bans</th>\n",
       "      <th>gameId</th>\n",
       "    </tr>\n",
       "  </thead>\n",
       "  <tbody>\n",
       "    <tr>\n",
       "      <th>0</th>\n",
       "      <td>0</td>\n",
       "      <td>100</td>\n",
       "      <td>Fail</td>\n",
       "      <td>True</td>\n",
       "      <td>False</td>\n",
       "      <td>False</td>\n",
       "      <td>False</td>\n",
       "      <td>False</td>\n",
       "      <td>False</td>\n",
       "      <td>0</td>\n",
       "      <td>0</td>\n",
       "      <td>0</td>\n",
       "      <td>0</td>\n",
       "      <td>0</td>\n",
       "      <td>0</td>\n",
       "      <td>0</td>\n",
       "      <td>[{'championId': -1, 'pickTurn': 1}, {'champion...</td>\n",
       "      <td>4.247263e+09</td>\n",
       "    </tr>\n",
       "    <tr>\n",
       "      <th>1</th>\n",
       "      <td>1</td>\n",
       "      <td>200</td>\n",
       "      <td>Fail</td>\n",
       "      <td>True</td>\n",
       "      <td>True</td>\n",
       "      <td>False</td>\n",
       "      <td>False</td>\n",
       "      <td>False</td>\n",
       "      <td>False</td>\n",
       "      <td>2</td>\n",
       "      <td>0</td>\n",
       "      <td>0</td>\n",
       "      <td>0</td>\n",
       "      <td>0</td>\n",
       "      <td>0</td>\n",
       "      <td>0</td>\n",
       "      <td>[{'championId': 875, 'pickTurn': 6}, {'champio...</td>\n",
       "      <td>4.247156e+09</td>\n",
       "    </tr>\n",
       "    <tr>\n",
       "      <th>2</th>\n",
       "      <td>2</td>\n",
       "      <td>100</td>\n",
       "      <td>Fail</td>\n",
       "      <td>False</td>\n",
       "      <td>False</td>\n",
       "      <td>False</td>\n",
       "      <td>False</td>\n",
       "      <td>False</td>\n",
       "      <td>False</td>\n",
       "      <td>0</td>\n",
       "      <td>0</td>\n",
       "      <td>0</td>\n",
       "      <td>0</td>\n",
       "      <td>0</td>\n",
       "      <td>0</td>\n",
       "      <td>0</td>\n",
       "      <td>[{'championId': 110, 'pickTurn': 1}, {'champio...</td>\n",
       "      <td>4.243963e+09</td>\n",
       "    </tr>\n",
       "  </tbody>\n",
       "</table>\n",
       "</div>"
      ],
      "text/plain": [
       "   Unnamed: 0  teamId   win  firstBlood  firstTower  firstInhibitor  \\\n",
       "0           0     100  Fail        True       False           False   \n",
       "1           1     200  Fail        True        True           False   \n",
       "2           2     100  Fail       False       False           False   \n",
       "\n",
       "   firstBaron  firstDragon  firstRiftHerald  towerKills  inhibitorKills  \\\n",
       "0       False        False            False           0               0   \n",
       "1       False        False            False           2               0   \n",
       "2       False        False            False           0               0   \n",
       "\n",
       "   baronKills  dragonKills  vilemawKills  riftHeraldKills  \\\n",
       "0           0            0             0                0   \n",
       "1           0            0             0                0   \n",
       "2           0            0             0                0   \n",
       "\n",
       "   dominionVictoryScore                                               bans  \\\n",
       "0                     0  [{'championId': -1, 'pickTurn': 1}, {'champion...   \n",
       "1                     0  [{'championId': 875, 'pickTurn': 6}, {'champio...   \n",
       "2                     0  [{'championId': 110, 'pickTurn': 1}, {'champio...   \n",
       "\n",
       "         gameId  \n",
       "0  4.247263e+09  \n",
       "1  4.247156e+09  \n",
       "2  4.243963e+09  "
      ]
     },
     "execution_count": 13,
     "metadata": {},
     "output_type": "execute_result"
    }
   ],
   "source": [
    "print(df_loser.shape)\n",
    "df_loser.head(3)"
   ]
  },
  {
   "cell_type": "markdown",
   "metadata": {},
   "source": [
    "#### Studying the probability of win/lose by doing the firts objectives"
   ]
  },
  {
   "cell_type": "code",
   "execution_count": 17,
   "metadata": {},
   "outputs": [
    {
     "data": {
      "text/plain": [
       "True     65550\n",
       "False    43279\n",
       "Name: firstBlood, dtype: int64"
      ]
     },
     "execution_count": 17,
     "metadata": {},
     "output_type": "execute_result"
    }
   ],
   "source": [
    "df_winner['firstBlood'].value_counts()"
   ]
  },
  {
   "cell_type": "code",
   "execution_count": 18,
   "metadata": {},
   "outputs": [
    {
     "data": {
      "text/plain": [
       "False    65786\n",
       "True     43043\n",
       "Name: firstBlood, dtype: int64"
      ]
     },
     "execution_count": 18,
     "metadata": {},
     "output_type": "execute_result"
    }
   ],
   "source": [
    "df_loser['firstBlood'].value_counts()"
   ]
  },
  {
   "cell_type": "code",
   "execution_count": 19,
   "metadata": {},
   "outputs": [
    {
     "data": {
      "text/plain": [
       "True     78927\n",
       "False    29902\n",
       "Name: firstTower, dtype: int64"
      ]
     },
     "execution_count": 19,
     "metadata": {},
     "output_type": "execute_result"
    }
   ],
   "source": [
    "df_winner['firstTower'].value_counts()"
   ]
  },
  {
   "cell_type": "code",
   "execution_count": 20,
   "metadata": {},
   "outputs": [
    {
     "data": {
      "text/plain": [
       "False    80255\n",
       "True     28574\n",
       "Name: firstTower, dtype: int64"
      ]
     },
     "execution_count": 20,
     "metadata": {},
     "output_type": "execute_result"
    }
   ],
   "source": [
    "df_loser['firstTower'].value_counts()"
   ]
  },
  {
   "cell_type": "code",
   "execution_count": 21,
   "metadata": {},
   "outputs": [
    {
     "data": {
      "text/plain": [
       "True     60912\n",
       "False    47917\n",
       "Name: firstDragon, dtype: int64"
      ]
     },
     "execution_count": 21,
     "metadata": {},
     "output_type": "execute_result"
    }
   ],
   "source": [
    "df_winner['firstDragon'].value_counts()"
   ]
  },
  {
   "cell_type": "code",
   "execution_count": 22,
   "metadata": {},
   "outputs": [
    {
     "data": {
      "text/plain": [
       "False    76299\n",
       "True     32530\n",
       "Name: firstDragon, dtype: int64"
      ]
     },
     "execution_count": 22,
     "metadata": {},
     "output_type": "execute_result"
    }
   ],
   "source": [
    "df_loser['firstDragon'].value_counts()"
   ]
  },
  {
   "cell_type": "code",
   "execution_count": 28,
   "metadata": {},
   "outputs": [
    {
     "name": "stdout",
     "output_type": "stream",
     "text": [
      "[0.         0.14285714 0.28571429 0.42857143 0.57142857 0.71428571\n",
      " 0.85714286 1.        ]\n"
     ]
    },
    {
     "data": {
      "image/png": "[encoded data removed]",
      "text/plain": [
       "<Figure size 1440x720 with 1 Axes>"
      ]
     },
     "metadata": {
      "needs_background": "light"
     },
     "output_type": "display_data"
    }
   ],
   "source": [
    "fig = plt.figure(figsize=(20,10))\n",
    "ax_1 = fig.add_subplot(1,1,1)\n",
    "cmap = plt.get_cmap('Spectral')\n",
    "x = np.linspace(0, 1, 8)\n",
    "print(x)"
   ]
  },
  {
   "cell_type": "code",
   "execution_count": null,
   "metadata": {},
   "outputs": [],
   "source": []
  }
 ],
 "metadata": {
  "kernelspec": {
   "display_name": "Python 3",
   "language": "python",
   "name": "python3"
  },
  "language_info": {
   "codemirror_mode": {
    "name": "ipython",
    "version": 3
   },
   "file_extension": ".py",
   "mimetype": "text/x-python",
   "name": "python",
   "nbconvert_exporter": "python",
   "pygments_lexer": "ipython3",
   "version": "3.7.5"
  }
 },
 "nbformat": 4,
 "nbformat_minor": 2
}
